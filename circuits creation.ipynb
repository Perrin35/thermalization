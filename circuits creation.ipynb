{
 "cells": [
  {
   "cell_type": "code",
   "execution_count": 2,
   "id": "28007bf9",
   "metadata": {},
   "outputs": [],
   "source": [
    "from recompilation_functions import *\n",
    "from randomized_compiling_functions import *"
   ]
  },
  {
   "cell_type": "code",
   "execution_count": 3,
   "id": "90256a62",
   "metadata": {},
   "outputs": [
    {
     "name": "stderr",
     "output_type": "stream",
     "text": [
      "C:\\Users\\hugop\\AppData\\Local\\Temp\\ipykernel_15656\\145221726.py:20: DeprecationWarning: `np.complex` is a deprecated alias for the builtin `complex`. To silence this warning, use `complex` by itself. Doing this will not modify any behavior and is safe. If you specifically wanted the numpy scalar type, use `np.complex128` here.\n",
      "Deprecated in NumPy 1.20; for more details and guidance: https://numpy.org/devdocs/release/1.20.0-notes.html#deprecations\n",
      "  J[i,j]= np.random.normal(loc = mean, scale = np.sqrt(0.5 * sigma/nb_qubits), size = (1, 2)).view(np.complex)[0][0]\n"
     ]
    },
    {
     "name": "stdout",
     "output_type": "stream",
     "text": [
      "1\n",
      "[[ 0.     +0.j      -0.31179+0.19076j  0.38648+0.47359j  0.16184-0.06752j]\n",
      " [-0.31179-0.19076j  0.     +0.j      -0.01749+0.16363j -0.40915-0.20559j]\n",
      " [ 0.38648-0.47359j -0.01749-0.16363j  0.     +0.j       0.14707-0.24773j]\n",
      " [ 0.16184+0.06752j -0.40915+0.20559j  0.14707+0.24773j  0.     +0.j     ]]\n",
      "Original number of CNOT : 271\n",
      "Ansatz number of CNOT : 60\n"
     ]
    },
    {
     "name": "stderr",
     "output_type": "stream",
     "text": [
      "No GPU/TPU found, falling back to CPU. (Set TF_CPP_MIN_LOG_LEVEL=0 and rerun for more info.)\n",
      "  0%|                                                                                       | 0/100000 [00:00<?, ?it/s]C:\\Users\\hugop\\.conda\\envs\\thermal\\lib\\site-packages\\jax\\_src\\numpy\\array_methods.py:728: UserWarning: Explicitly requested dtype <class 'jax.numpy.complex128'> requested in astype is not available, and will be truncated to dtype complex64. To enable more dtypes, set the jax_enable_x64 configuration option or the JAX_ENABLE_X64 shell environment variable. See https://github.com/google/jax#current-gotchas for more.\n",
      "  return getattr(self.aval, name).fun(self, *args, **kwargs)\n",
      "+0.005253851414 [best: +0.003187835217] :  10%|███▎                              | 9695/100000 [05:40<52:55, 28.44it/s]\n",
      "C:\\Users\\hugop\\AppData\\Roaming\\Python\\Python39\\site-packages\\autoray\\autoray.py:1052: UserWarning: Explicitly requested dtype <class 'jax.numpy.complex128'> requested in astype is not available, and will be truncated to dtype complex64. To enable more dtypes, set the jax_enable_x64 configuration option or the JAX_ENABLE_X64 shell environment variable. See https://github.com/google/jax#current-gotchas for more.\n",
      "  return x.astype(dtype, **kwargs)\n"
     ]
    },
    {
     "name": "stdout",
     "output_type": "stream",
     "text": [
      "Fidelity (tensor): 99.6985597494 %\n",
      "Fidelity (circuit): 99.7013940323 %\n"
     ]
    }
   ],
   "source": [
    "#creation of the circuits using recompiled tensor network method\n",
    "\n",
    "nb_qubits = 4#system size\n",
    "depth=20 #depth of the recompiled circuit\n",
    "t = 10#time of the simulation (quench)\n",
    "mean=0 #mean value of the coupling strength's gaussian distribution\n",
    "sigma=1 #standard deviation of the coupling strength's gaussian distribution\n",
    "nr=100 #number of disorder realizations\n",
    "omegas=[0.28,0.38,0.63,0.86] #qubits frequencies\n",
    "\n",
    "\n",
    "r=1#initial disorder realization\n",
    "for d in range(r,nr+1):\n",
    "\n",
    "\n",
    "    #random interaction\n",
    "    J=np.zeros((nb_qubits,nb_qubits),dtype=complex)\n",
    "    for i in range(nb_qubits):\n",
    "        for j in range(i+1,nb_qubits):\n",
    "            J[i,j]= np.random.normal(loc = mean, scale = np.sqrt(0.5 * sigma/nb_qubits), size = (1, 2)).view(np.complex)[0][0]\n",
    "            J[j,i]=np.conjugate(J[i,j])\n",
    "\n",
    "    #Saving the matrix of random coupling_strength of the system for one disorder realization\n",
    "    #WARNING IF YOU UNCOMMENT THE LINE BELOW, THE PREVIOUS MATRIX OF THE CORRESPONDING DISORDER REALIZATION WILL BE ERASED\n",
    "    #np.save('data/disorder_realization_'+str(d)+'/random_interaction_'+str(d),J)\n",
    "\n",
    "    np.set_printoptions(precision=5)\n",
    "    print(d)\n",
    "    print(J)\n",
    "\n",
    "    #exact unitary\n",
    "    unitary = linalg.expm(-1j*random_gaussian_interactions(J,omegas)*t)\n",
    "\n",
    "    \n",
    "    #initial state\n",
    "    qc=QuantumCircuit(nb_qubits)\n",
    "    for i in range(nb_qubits):\n",
    "        qc.rx(np.pi/2,i)\n",
    "    qc.barrier()\n",
    "    \n",
    "    #circuit recompiled\n",
    "    qc_recompiled=tensor_network_recompilation(unitary, depth, ansatz_fct = ansatz_circuit, two_qubit_gate = 'CX', n_iter = 5000, n_hop = 20, temperature = 10, print_bool = True)  \n",
    "    qc.append(qc_recompiled,[i for i in range(nb_qubits)])\n",
    "    \n",
    "    #measurement in the y-direction\n",
    "    qc_meas=add_measure(qc)\n",
    "\n",
    "    #save the quantum circuit\n",
    "    #WARNING IF YOU UNCOMMENT THE LINE BELOW, THE PREVIOUS CIRCUIT OF THE CORRESPONDING DISORDER REALIZATION WILL BE ERASED\n",
    "    #qc_meas.qasm(formatted=True,filename='data/disorder_realization_'+str(d)+'/T='+str(round(t,1))+'/recompiled_circuit_disorder='+str(d)+'_T='+str(round(t,1))+'.qasm')"
   ]
  },
  {
   "cell_type": "code",
   "execution_count": 4,
   "id": "a47e8dc9",
   "metadata": {},
   "outputs": [],
   "source": [
    "#creation of the RC circuits for each disorder realization\n",
    "\n",
    "%%capture\n",
    "nr=1#number of disorder realizations\n",
    "r=1\n",
    "t=10 #time of the simulation \n",
    "nb_twirls=100#number of RC circuits per realization\n",
    "coupling_map=[[0,1],[1,0],[1,2],[2,1],[2,3],[3,2]]#linear coupling map between the qubits\n",
    "for d in range(r,nr+1):\n",
    "    qc=QuantumCircuit.from_qasm_file('data/disorder_realization_'+str(d)+'/T='+str(round(t,1))+'/recompiled_circuit_disorder_'+str(d)+'_T='+str(round(t,1))+'.qasm')\n",
    "    for k in range(nb_twirls):\n",
    "        qc2=crosstalk_twirl(qc,coupling_map)\n",
    "        #save circuits, if you uncomment the line below the previous circuits already saved will be erased\n",
    "        #qc2.qasm(formatted=True,filename='data/disorder_realization_'+str(d)+'/T='+str(round(t,1))+'/RC/recompiled_circuit_disorder_'+str(d)+'_T='+str(round(t,1))+'_RC_'+str(k)+'.qasm')"
   ]
  },
  {
   "cell_type": "code",
   "execution_count": null,
   "id": "a8492a40",
   "metadata": {},
   "outputs": [],
   "source": []
  }
 ],
 "metadata": {
  "kernelspec": {
   "display_name": "thermal",
   "language": "python",
   "name": "thermal"
  },
  "language_info": {
   "codemirror_mode": {
    "name": "ipython",
    "version": 3
   },
   "file_extension": ".py",
   "mimetype": "text/x-python",
   "name": "python",
   "nbconvert_exporter": "python",
   "pygments_lexer": "ipython3",
   "version": "3.9.16"
  },
  "varInspector": {
   "cols": {
    "lenName": 16,
    "lenType": 16,
    "lenVar": 40
   },
   "kernels_config": {
    "python": {
     "delete_cmd_postfix": "",
     "delete_cmd_prefix": "del ",
     "library": "var_list.py",
     "varRefreshCmd": "print(var_dic_list())"
    },
    "r": {
     "delete_cmd_postfix": ") ",
     "delete_cmd_prefix": "rm(",
     "library": "var_list.r",
     "varRefreshCmd": "cat(var_dic_list()) "
    }
   },
   "types_to_exclude": [
    "module",
    "function",
    "builtin_function_or_method",
    "instance",
    "_Feature"
   ],
   "window_display": false
  }
 },
 "nbformat": 4,
 "nbformat_minor": 5
}
