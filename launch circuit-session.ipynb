{
 "cells": [
  {
   "cell_type": "code",
   "execution_count": 8,
   "id": "57b62db5",
   "metadata": {},
   "outputs": [],
   "source": [
    "from qiskit_ibm_runtime import QiskitRuntimeService, Session, Sampler, Options\n",
    "from qiskit import QuantumCircuit, transpile, ClassicalRegister\n",
    "\n",
    "\n",
    "import numpy as np\n",
    "import math\n",
    "import time\n",
    "import json\n",
    "\n",
    "#Insert token of your account\n",
    "MY_TOKEN=''\n",
    "service = QiskitRuntimeService(channel=\"ibm_quantum\",url='https://auth.quantum-computing.ibm.com/api',token=MY_TOKEN)"
   ]
  },
  {
   "cell_type": "code",
   "execution_count": 9,
   "id": "43be3351",
   "metadata": {},
   "outputs": [],
   "source": [
    "def prep_meas(layout,backend=None):\n",
    "    \"\n",
    "    \"\"\"\n",
    "    Parameters: \n",
    "     list: List of measured qubits\n",
    "     backend: backend used for the quantum computation\n",
    "        \n",
    "    Returns: list of QuantumCircuit: Preparation of the 2**len(layout) bitstring configuration initial state,\n",
    "                                     used to calibrate noisy measurement\n",
    "    \"\"\"\n",
    "    \n",
    "    nb_qubits=len(layout)\n",
    "    qc_meas=list(QuantumCircuit(nb_qubits) for _ in range(2**nb_qubits))\n",
    "    for k in range(2**nb_qubits):\n",
    "        qc=QuantumCircuit(nb_qubits)#initialisation of the differents bit string configurations\n",
    "        for p in range(nb_qubits):\n",
    "            if (k//(2**p))%2==1:\n",
    "                qc.x(p)\n",
    "        qc.barrier()\n",
    "        qc.measure_all()\n",
    "        qc_meas[k]=transpile(qc,backend=backend,optimization_level=0,basis_gates=['cx','x','sx','rz','id'],initial_layout=layout)#measure all the qubits used \n",
    "    return qc_meas\n"
   ]
  },
  {
   "cell_type": "code",
   "execution_count": 6,
   "id": "9c47465d",
   "metadata": {},
   "outputs": [],
   "source": [
    "backend='ibm_hanoi'#quantum machine used for the experiment\n",
    "nr=100 #number of disorder realizations\n",
    "nb_twirls_RC=100 #number of RC circuits per realization\n",
    "lay=[1,4,7,10] #qubits used in the quantum simulation\n",
    "nb_shots_meas=100000 #number of shots for the calibration of measurement\n",
    "nb_shots_RC=1000 #number of shots per RC circuits\n",
    "\n",
    "\n",
    "Backend = service.backend(backend)\n",
    "#calibration circuit for measurement\n",
    "qc_meas=prep_meas(lay,backend=Backend)\n",
    "\n"
   ]
  },
  {
   "cell_type": "code",
   "execution_count": 7,
   "id": "1701fcb4",
   "metadata": {},
   "outputs": [],
   "source": [
    "session_name='thermalization 1'\n",
    "\n",
    "nb_qubits=len(lay)\n",
    "options = Options(optimization_level=0,resilience_level=0)\n",
    "ID=[]\n",
    "with Session(service=service, backend=backend) as session:\n",
    "    \n",
    "    # Submit a request to the Sampler primitive within the session.\n",
    "    sampler = Sampler(session=session, options=options)\n",
    "    \n",
    "    #launch circuits for measurement calibration\n",
    "    job_meas = sampler.run(qc_meas, shots=nb_shots_meas)\n",
    "    id_meas=job_meas.job_id()\n",
    "    \n",
    "    #launch RC circuits of each disorder realization\n",
    "    for d in range(1,nr+1):\n",
    "        qc_disorder=list(QuantumCircuit.from_qasm_file('data/disorder_realization_'+str(d)+'/T=10/RC/recompiled_circuit_disorder_'+str(d)+'_T=10_RC_'+str(k)+'.qasm') for k in range(nb_twirls_RC))\n",
    "        job_disorder = sampler.run(qc_disorder, shots=nb_shots_RC)\n",
    "        ID.append(job_disorder.job_id())\n",
    "    \n",
    "    with open('data/QC/session '+str(session_name)+'/ID_meas_backend='+str(backend)+'.json',\"w\") as json_file:\n",
    "        json.dump(id_meas, json_file)\n",
    "        \n",
    "    with open('data/QC/session '+str(session_name)+'/ID_RC_backend='+str(backend)+'.json',\"w\") as json_file:\n",
    "        json.dump(ID, json_file)\n",
    "    \n",
    "    job_meas=service.job(id_meas)\n",
    "    result_meas = job_meas.result().quasi_dists\n",
    "\n",
    "    #compute the calibration matrix of noisy measurements\n",
    "    meas_matrix=list(list(0 for _ in range(2**nb_qubits)) for _ in range(2**nb_qubits))\n",
    "    for k in range(2**nb_qubits):\n",
    "        for key in result_meas[k].keys():\n",
    "            meas_matrix[int(key)][k]=result_meas[k][key]\n",
    "    \n",
    "    #save the result\n",
    "    with open('data/QC/session '+str(session_name)+'/measurement_backend='+str(backend)+'.json',\"w\") as json_file:\n",
    "        json.dump(meas_matrix, json_file)\n",
    "\n",
    "    #save result from QC for each disorder realization\n",
    "    for d in range(nr):\n",
    "        job_disorder=service.job(ID[d])\n",
    "        result_disorder = job_disorder.result().quasi_dists\n",
    "        with open('data/QC/session '+str(session_name)+'/result_disorder_realization_'+str(d+1)+'_backend='+str(backend)+'.json',\"w\") as json_file:\n",
    "            json.dump(result_disorder, json_file)\n",
    "\n",
    "    "
   ]
  },
  {
   "cell_type": "code",
   "execution_count": null,
   "id": "dcabdc47",
   "metadata": {},
   "outputs": [],
   "source": []
  }
 ],
 "metadata": {
  "kernelspec": {
   "display_name": "thermal",
   "language": "python",
   "name": "thermal"
  },
  "language_info": {
   "codemirror_mode": {
    "name": "ipython",
    "version": 3
   },
   "file_extension": ".py",
   "mimetype": "text/x-python",
   "name": "python",
   "nbconvert_exporter": "python",
   "pygments_lexer": "ipython3",
   "version": "3.9.16"
  },
  "varInspector": {
   "cols": {
    "lenName": 16,
    "lenType": 16,
    "lenVar": 40
   },
   "kernels_config": {
    "python": {
     "delete_cmd_postfix": "",
     "delete_cmd_prefix": "del ",
     "library": "var_list.py",
     "varRefreshCmd": "print(var_dic_list())"
    },
    "r": {
     "delete_cmd_postfix": ") ",
     "delete_cmd_prefix": "rm(",
     "library": "var_list.r",
     "varRefreshCmd": "cat(var_dic_list()) "
    }
   },
   "types_to_exclude": [
    "module",
    "function",
    "builtin_function_or_method",
    "instance",
    "_Feature"
   ],
   "window_display": false
  }
 },
 "nbformat": 4,
 "nbformat_minor": 5
}
